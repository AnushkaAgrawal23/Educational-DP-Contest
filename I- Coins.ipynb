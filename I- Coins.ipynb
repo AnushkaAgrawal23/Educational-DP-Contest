{
 "cells": [
  {
   "cell_type": "markdown",
   "metadata": {},
   "source": [
    "I - COINS"
   ]
  },
  {
   "cell_type": "code",
   "execution_count": 3,
   "metadata": {},
   "outputs": [],
   "source": [
    "# Initialise the 2D dp array with -1 as value\n",
    "def solve(arr,i,x):\n",
    "    if x==0:\n",
    "        return 1\n",
    "    if i==0:\n",
    "        return 0\n",
    "    if(dp[i][x]!=-1):\n",
    "        return dp[i][x]\n",
    "    dp[i][x] = arr[i]*solve(arr,i-1,x-1) + (1-arr[i])*solve(arr,i-1,x)\n",
    "    return dp[i][x]"
   ]
  },
  {
   "cell_type": "code",
   "execution_count": null,
   "metadata": {},
   "outputs": [],
   "source": []
  },
  {
   "cell_type": "code",
   "execution_count": null,
   "metadata": {},
   "outputs": [],
   "source": []
  },
  {
   "cell_type": "code",
   "execution_count": null,
   "metadata": {},
   "outputs": [],
   "source": []
  }
 ],
 "metadata": {
  "kernelspec": {
   "display_name": "Python 3",
   "language": "python",
   "name": "python3"
  },
  "language_info": {
   "codemirror_mode": {
    "name": "ipython",
    "version": 3
   },
   "file_extension": ".py",
   "mimetype": "text/x-python",
   "name": "python",
   "nbconvert_exporter": "python",
   "pygments_lexer": "ipython3",
   "version": "3.7.1"
  }
 },
 "nbformat": 4,
 "nbformat_minor": 4
}
