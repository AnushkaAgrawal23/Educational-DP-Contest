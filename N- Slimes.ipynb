{
 "cells": [
  {
   "cell_type": "markdown",
   "metadata": {},
   "source": [
    "N- SLIMES"
   ]
  },
  {
   "cell_type": "code",
   "execution_count": 1,
   "metadata": {},
   "outputs": [],
   "source": [
    "# Preprocessing for calculating summ array\n",
    "def preprocess(v,n):\n",
    "    for i in range(1,n):\n",
    "        for j in range(i,n):\n",
    "            if(j!=i):\n",
    "                summ[i][j] = v[j] + summ[i][j-1]\n",
    "            else:\n",
    "                summ[i][j] = 0\n",
    "\n",
    "# Function for Minimum Cost\n",
    "def solve(v,i,j):\n",
    "    if(i==j):\n",
    "        return 0\n",
    "    if(dp[i][j]!=-1):\n",
    "        return dp[i][j]\n",
    "    min_cost = float('inf')\n",
    "    for k in range(i,j):\n",
    "        min_cost = min(min_cost, summ[i][j]+solve(v,i,k)+solve(v,k+1,j))\n",
    "    dp[i][j] = min_cost\n",
    "    return min_cost"
   ]
  },
  {
   "cell_type": "code",
   "execution_count": null,
   "metadata": {},
   "outputs": [],
   "source": []
  },
  {
   "cell_type": "code",
   "execution_count": null,
   "metadata": {},
   "outputs": [],
   "source": []
  },
  {
   "cell_type": "code",
   "execution_count": null,
   "metadata": {},
   "outputs": [],
   "source": []
  }
 ],
 "metadata": {
  "kernelspec": {
   "display_name": "Python 3",
   "language": "python",
   "name": "python3"
  },
  "language_info": {
   "codemirror_mode": {
    "name": "ipython",
    "version": 3
   },
   "file_extension": ".py",
   "mimetype": "text/x-python",
   "name": "python",
   "nbconvert_exporter": "python",
   "pygments_lexer": "ipython3",
   "version": "3.7.1"
  }
 },
 "nbformat": 4,
 "nbformat_minor": 4
}
