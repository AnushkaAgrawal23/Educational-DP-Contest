{
 "cells": [
  {
   "cell_type": "markdown",
   "metadata": {},
   "source": [
    "E- KNAPSACK 2"
   ]
  },
  {
   "cell_type": "code",
   "execution_count": 2,
   "metadata": {},
   "outputs": [],
   "source": [
    "def solve(val,wt,W,n):\n",
    "    max_val = n*1000\n",
    "    dp = [[0]*(max_val+1) for i in range(n+1)]\n",
    "     \n",
    "    for i in range(max_val+1):\n",
    "        dp[1][i] = float('inf')\n",
    "    dp[1][0] = 0\n",
    "    dp[1][val[0]] = wt[0]\n",
    "    for i in range(2,n+1):\n",
    "        for j in range(max_val+1):\n",
    "            dp[i][j] = dp[i-1][j]\n",
    "            if(val[i-1]>j):\n",
    "                continue\n",
    "            dp[i][j] = min(dp[i-1][j], wt[i-1] + dp[i-1][j-val[i-1]])\n",
    "            \n",
    "    for x in range(max_val+1):\n",
    "        if(dp[n][x]<=W):\n",
    "            ans = x\n",
    "    return ans"
   ]
  },
  {
   "cell_type": "code",
   "execution_count": null,
   "metadata": {},
   "outputs": [],
   "source": []
  }
 ],
 "metadata": {
  "kernelspec": {
   "display_name": "Python 3",
   "language": "python",
   "name": "python3"
  },
  "language_info": {
   "codemirror_mode": {
    "name": "ipython",
    "version": 3
   },
   "file_extension": ".py",
   "mimetype": "text/x-python",
   "name": "python",
   "nbconvert_exporter": "python",
   "pygments_lexer": "ipython3",
   "version": "3.7.1"
  }
 },
 "nbformat": 4,
 "nbformat_minor": 4
}
