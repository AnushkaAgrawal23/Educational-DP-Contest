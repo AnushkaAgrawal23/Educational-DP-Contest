{
 "cells": [
  {
   "cell_type": "markdown",
   "metadata": {},
   "source": [
    "M- CANDIES"
   ]
  },
  {
   "cell_type": "code",
   "execution_count": 1,
   "metadata": {},
   "outputs": [],
   "source": [
    "def solve(v,n,k):\n",
    "    dp = [[-1]*(k+2) for i in range(n+2)]\n",
    "    # Base Case\n",
    "    for j in range(k):\n",
    "        if j<=v[0]:\n",
    "            dp[1][j] = 1\n",
    "        else:\n",
    "            dp[1][j] = 0\n",
    "    # Recursive Case\n",
    "    for i in range(2,n+1):\n",
    "        for j in range(k+1):\n",
    "            if j==0:\n",
    "                dp[i][j] = dp[i-1][j]\n",
    "            else:\n",
    "                dp[i][j] = dp[i][j-1] + dp[i-1][j] - dp[i-1][j-v[i-1]-1]\n",
    "    return dp[n][k]"
   ]
  },
  {
   "cell_type": "code",
   "execution_count": null,
   "metadata": {},
   "outputs": [],
   "source": []
  },
  {
   "cell_type": "code",
   "execution_count": null,
   "metadata": {},
   "outputs": [],
   "source": []
  },
  {
   "cell_type": "code",
   "execution_count": null,
   "metadata": {},
   "outputs": [],
   "source": []
  }
 ],
 "metadata": {
  "kernelspec": {
   "display_name": "Python 3",
   "language": "python",
   "name": "python3"
  },
  "language_info": {
   "codemirror_mode": {
    "name": "ipython",
    "version": 3
   },
   "file_extension": ".py",
   "mimetype": "text/x-python",
   "name": "python",
   "nbconvert_exporter": "python",
   "pygments_lexer": "ipython3",
   "version": "3.7.1"
  }
 },
 "nbformat": 4,
 "nbformat_minor": 4
}
