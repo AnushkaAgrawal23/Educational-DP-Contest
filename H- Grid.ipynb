{
 "cells": [
  {
   "cell_type": "markdown",
   "metadata": {},
   "source": [
    "H- GRID"
   ]
  },
  {
   "cell_type": "code",
   "execution_count": 3,
   "metadata": {},
   "outputs": [],
   "source": [
    "def solve(mat,H,W):\n",
    "    dp = [[0]*(H+1) for i in range(W+1)]\n",
    "    # Base Case\n",
    "    if dp[0][0] == -1:\n",
    "        return 0\n",
    "    for i in range(W):\n",
    "        for j in range(H):\n",
    "            if(dp[i][j]==-1):\n",
    "                continue\n",
    "            dp[i][j] = 0\n",
    "            if(dp[i][j-1]!=-1):\n",
    "                dp[i][j] = dp[i][j-1]\n",
    "            if(dp[i-1][j]!=-1):\n",
    "                dp[i][j] = dp[i][j] + dp[i-1][j]\n",
    "    if(dp[W-1][H-1]==-1):\n",
    "        return 0\n",
    "    return dp[W-1][H-1]"
   ]
  },
  {
   "cell_type": "code",
   "execution_count": null,
   "metadata": {},
   "outputs": [],
   "source": []
  },
  {
   "cell_type": "code",
   "execution_count": null,
   "metadata": {},
   "outputs": [],
   "source": []
  },
  {
   "cell_type": "code",
   "execution_count": null,
   "metadata": {},
   "outputs": [],
   "source": []
  }
 ],
 "metadata": {
  "kernelspec": {
   "display_name": "Python 3",
   "language": "python",
   "name": "python3"
  },
  "language_info": {
   "codemirror_mode": {
    "name": "ipython",
    "version": 3
   },
   "file_extension": ".py",
   "mimetype": "text/x-python",
   "name": "python",
   "nbconvert_exporter": "python",
   "pygments_lexer": "ipython3",
   "version": "3.7.1"
  }
 },
 "nbformat": 4,
 "nbformat_minor": 4
}
