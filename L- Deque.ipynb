{
 "cells": [
  {
   "cell_type": "markdown",
   "metadata": {},
   "source": [
    "L- DEQUE"
   ]
  },
  {
   "cell_type": "code",
   "execution_count": 1,
   "metadata": {},
   "outputs": [],
   "source": [
    "# Initialise dp array \n",
    "# Time and Space Complexity - O(N^2)\n",
    "def solve(v,i,j,turn):\n",
    "    if(i>j):\n",
    "        return 0\n",
    "    if(dp[i][j][turn] != -1):\n",
    "        return dp[i][j][turn]\n",
    "    if(turn==1):\n",
    "        dp[i][j][turn] = max(v[i]+solve(v,i+1,j,0),v[j]+solve(v,i,j-1,0))\n",
    "        return dp[i][j][turn]\n",
    "    else:\n",
    "        dp[i][j][turn] = min(solve(v,i+1,j,1),solve(v,i,j-1,1))\n",
    "        return dp[i][j][turn]\n",
    "    "
   ]
  },
  {
   "cell_type": "code",
   "execution_count": null,
   "metadata": {},
   "outputs": [],
   "source": []
  },
  {
   "cell_type": "code",
   "execution_count": null,
   "metadata": {},
   "outputs": [],
   "source": []
  },
  {
   "cell_type": "code",
   "execution_count": null,
   "metadata": {},
   "outputs": [],
   "source": []
  }
 ],
 "metadata": {
  "kernelspec": {
   "display_name": "Python 3",
   "language": "python",
   "name": "python3"
  },
  "language_info": {
   "codemirror_mode": {
    "name": "ipython",
    "version": 3
   },
   "file_extension": ".py",
   "mimetype": "text/x-python",
   "name": "python",
   "nbconvert_exporter": "python",
   "pygments_lexer": "ipython3",
   "version": "3.7.1"
  }
 },
 "nbformat": 4,
 "nbformat_minor": 4
}
