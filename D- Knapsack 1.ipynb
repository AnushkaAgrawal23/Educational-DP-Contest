{
 "cells": [
  {
   "cell_type": "markdown",
   "metadata": {},
   "source": [
    "D- KNAPSACK 1"
   ]
  },
  {
   "cell_type": "code",
   "execution_count": 1,
   "metadata": {},
   "outputs": [],
   "source": [
    "# Two cases - either I take the ith item (the value is added to the last value and weight is reduced by \n",
    "# the weight of that item) or I dont take that item\n",
    "def solve(val,wt,n,W):\n",
    "    dp = [[0]*(W+1) for i in range(n+1)]\n",
    "    for i in range(n+1):\n",
    "        for w in range(W+1):\n",
    "            if i==0 or w==0:\n",
    "                dp[i][w] = 0\n",
    "            elif wt[i-1]<=W:\n",
    "                dp[i][w] = max(val[i-1]+dp[i-1][w-wt[i-1]], dp[i-1][w])\n",
    "            else:\n",
    "                dp[i][w] = dp[i-1][w]\n",
    "    return dp[n][W]"
   ]
  },
  {
   "cell_type": "code",
   "execution_count": 2,
   "metadata": {},
   "outputs": [
    {
     "data": {
      "text/plain": [
       "220"
      ]
     },
     "execution_count": 2,
     "metadata": {},
     "output_type": "execute_result"
    }
   ],
   "source": [
    "val = [60,100,120]\n",
    "wt = [10,20,30]\n",
    "W = 50\n",
    "n = 3\n",
    "solve(val,wt,n,W)"
   ]
  },
  {
   "cell_type": "code",
   "execution_count": null,
   "metadata": {},
   "outputs": [],
   "source": []
  },
  {
   "cell_type": "code",
   "execution_count": null,
   "metadata": {},
   "outputs": [],
   "source": []
  }
 ],
 "metadata": {
  "kernelspec": {
   "display_name": "Python 3",
   "language": "python",
   "name": "python3"
  },
  "language_info": {
   "codemirror_mode": {
    "name": "ipython",
    "version": 3
   },
   "file_extension": ".py",
   "mimetype": "text/x-python",
   "name": "python",
   "nbconvert_exporter": "python",
   "pygments_lexer": "ipython3",
   "version": "3.7.1"
  }
 },
 "nbformat": 4,
 "nbformat_minor": 4
}
