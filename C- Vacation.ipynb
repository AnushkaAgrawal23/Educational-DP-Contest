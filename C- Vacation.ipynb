{
 "cells": [
  {
   "cell_type": "markdown",
   "metadata": {},
   "source": [
    "C- VACATION "
   ]
  },
  {
   "cell_type": "code",
   "execution_count": 3,
   "metadata": {},
   "outputs": [],
   "source": [
    "# 2D DP (1 dimension for day and other for ativity a,b,c)\n",
    "def solve(arr,n):\n",
    "    dp = [[0]*(n+1) for i in range(3)]\n",
    "    dp[1][0] = arr[0][0]\n",
    "    dp[1][1] = arr[0][1]\n",
    "    dp[1][2] = arr[0][2]\n",
    "    for i in range(2,n+1):\n",
    "        dp[i][0] = arr[i-1][0] + max(dp[i-1][1], dp[i-1][2])\n",
    "        dp[i][1] = arr[i-1][0] + max(dp[i-1][0], dp[i-1][2])\n",
    "        dp[i][2] = arr[i-1][0] + max(dp[i-1][1], dp[i-1][0])\n",
    "    return max(dp[n][0], max(dp[n][1], dp[n][2]))"
   ]
  },
  {
   "cell_type": "code",
   "execution_count": null,
   "metadata": {},
   "outputs": [],
   "source": []
  }
 ],
 "metadata": {
  "kernelspec": {
   "display_name": "Python 3",
   "language": "python",
   "name": "python3"
  },
  "language_info": {
   "codemirror_mode": {
    "name": "ipython",
    "version": 3
   },
   "file_extension": ".py",
   "mimetype": "text/x-python",
   "name": "python",
   "nbconvert_exporter": "python",
   "pygments_lexer": "ipython3",
   "version": "3.7.1"
  }
 },
 "nbformat": 4,
 "nbformat_minor": 4
}
