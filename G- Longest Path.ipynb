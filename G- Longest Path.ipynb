{
 "cells": [
  {
   "cell_type": "markdown",
   "metadata": {},
   "source": [
    "G- LONGEST PATH"
   ]
  },
  {
   "cell_type": "code",
   "execution_count": 1,
   "metadata": {},
   "outputs": [],
   "source": [
    "def add_edge(u,v):\n",
    "    graph[u].append(v)\n",
    "def solve(src):\n",
    "    dp = [-1]*(len(graph))+1     # length of the longest path starting from node i\n",
    "    if(dp[src]!=-1):\n",
    "        return dp[src]\n",
    "    leaf = 1\n",
    "    best_child = 0\n",
    "    for child in graph[src]:\n",
    "        leaf = 0\n",
    "        best_child = max(best_child,solve(child))\n",
    "    if leaf:\n",
    "        dp[src] = 0\n",
    "    else:\n",
    "        dp[src] = 1 + best_child\n",
    "    return dp[src]  # then calculate the maximum length from all the vertex length that is stored in dp array "
   ]
  },
  {
   "cell_type": "code",
   "execution_count": null,
   "metadata": {},
   "outputs": [],
   "source": []
  },
  {
   "cell_type": "code",
   "execution_count": null,
   "metadata": {},
   "outputs": [],
   "source": []
  },
  {
   "cell_type": "code",
   "execution_count": null,
   "metadata": {},
   "outputs": [],
   "source": []
  }
 ],
 "metadata": {
  "kernelspec": {
   "display_name": "Python 3",
   "language": "python",
   "name": "python3"
  },
  "language_info": {
   "codemirror_mode": {
    "name": "ipython",
    "version": 3
   },
   "file_extension": ".py",
   "mimetype": "text/x-python",
   "name": "python",
   "nbconvert_exporter": "python",
   "pygments_lexer": "ipython3",
   "version": "3.7.1"
  }
 },
 "nbformat": 4,
 "nbformat_minor": 4
}
