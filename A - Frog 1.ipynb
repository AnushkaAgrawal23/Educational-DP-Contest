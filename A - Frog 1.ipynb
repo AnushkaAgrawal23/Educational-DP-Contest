{
 "cells": [
  {
   "cell_type": "markdown",
   "metadata": {},
   "source": [
    "A- FROG 1"
   ]
  },
  {
   "cell_type": "code",
   "execution_count": 16,
   "metadata": {},
   "outputs": [],
   "source": [
    "# Time Complexity - O(N)\n",
    "# Space Complexity - O(N) - we could also save memory and can do it O(1) because dp array here depends \n",
    "# only on two previous states, so this can be done by considering three variables\n",
    "def solve(arr,n):\n",
    "    dp = [float('inf')]*(n+1)\n",
    "    dp[1] = 0\n",
    "    for i in range(2,n):\n",
    "        op1 = dp[i-1] + abs(arr[i] - arr[i-1])\n",
    "        if(i==2):\n",
    "            op2 = float('inf')\n",
    "        op2 = dp[i-2] + abs(arr[i] - arr[i-2])\n",
    "        dp[i] = min(op1,op2)\n",
    "    return dp[n-1]"
   ]
  },
  {
   "cell_type": "code",
   "execution_count": 17,
   "metadata": {},
   "outputs": [
    {
     "data": {
      "text/plain": [
       "40"
      ]
     },
     "execution_count": 17,
     "metadata": {},
     "output_type": "execute_result"
    }
   ],
   "source": [
    "arr = [30,10,60,10,60,50]\n",
    "n = 6\n",
    "solve(arr,n)"
   ]
  },
  {
   "cell_type": "code",
   "execution_count": null,
   "metadata": {},
   "outputs": [],
   "source": []
  }
 ],
 "metadata": {
  "kernelspec": {
   "display_name": "Python 3",
   "language": "python",
   "name": "python3"
  },
  "language_info": {
   "codemirror_mode": {
    "name": "ipython",
    "version": 3
   },
   "file_extension": ".py",
   "mimetype": "text/x-python",
   "name": "python",
   "nbconvert_exporter": "python",
   "pygments_lexer": "ipython3",
   "version": "3.7.1"
  }
 },
 "nbformat": 4,
 "nbformat_minor": 4
}
